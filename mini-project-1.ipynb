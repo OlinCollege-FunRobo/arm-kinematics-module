{
 "cells": [
  {
   "cell_type": "code",
   "execution_count": 1,
   "metadata": {},
   "outputs": [],
   "source": [
    "import numpy as np\n",
    "\n",
    "def calculate_dh_matrix(theta, alpha, a, d):\n",
    "    \"\"\"\n",
    "    Calculate the homogeneous transformation matrix using DH parameters.\n",
    "    \n",
    "    Args:\n",
    "        theta: Joint angle in radians (rotation about z-axis)\n",
    "        alpha: Link twist in radians (rotation about x-axis)\n",
    "        a: Link length (translation along x-axis)\n",
    "        d: Link offset (translation along z-axis)\n",
    "    \n",
    "    Returns:\n",
    "        4x4 homogeneous transformation matrix\n",
    "    \"\"\"\n",
    "    # Create the rotation and translation matrices\n",
    "    cos_theta = np.cos(theta)\n",
    "    sin_theta = np.sin(theta)\n",
    "    cos_alpha = np.cos(alpha)\n",
    "    sin_alpha = np.sin(alpha)\n",
    "    \n",
    "    # Build the homogeneous transformation matrix\n",
    "    H = np.array([\n",
    "        [cos_theta, -sin_theta*cos_alpha,  sin_theta*sin_alpha, a*cos_theta],\n",
    "        [sin_theta,  cos_theta*cos_alpha, -cos_theta*sin_alpha, a*sin_theta],\n",
    "        [0,         sin_alpha,            cos_alpha,           d],\n",
    "        [0,         0,                    0,                   1]\n",
    "    ])\n",
    "    \n",
    "    return H"
   ]
  },
  {
   "cell_type": "code",
   "execution_count": null,
   "metadata": {},
   "outputs": [
    {
     "name": "stdout",
     "output_type": "stream",
     "text": [
      "Transformation matrix:\n",
      "[[ 7.07106781e-01 -4.32978028e-17  7.07106781e-01  3.53553391e-01]\n",
      " [ 7.07106781e-01  4.32978028e-17 -7.07106781e-01  3.53553391e-01]\n",
      " [ 0.00000000e+00  1.00000000e+00  6.12323400e-17  3.00000000e-01]\n",
      " [ 0.00000000e+00  0.00000000e+00  0.00000000e+00  1.00000000e+00]]\n"
     ]
    }
   ],
   "source": [
    "theta = np.pi/4  # 45 degrees\n",
    "alpha = np.pi/2  # 90 degrees\n",
    "a = 0.5         # 0.5 units\n",
    "d = 0.3         # 0.3 units\n",
    "\n",
    "H = calculate_dh_matrix(theta, alpha, a, d)\n",
    "print(\"Transformation matrix:\")\n",
    "print(H)\n",
    "\n"
   ]
  },
  {
   "cell_type": "code",
   "execution_count": 2,
   "metadata": {},
   "outputs": [
    {
     "ename": "NameError",
     "evalue": "name 'calculate_dh_matrix' is not defined",
     "output_type": "error",
     "traceback": [
      "\u001b[1;31m---------------------------------------------------------------------------\u001b[0m",
      "\u001b[1;31mNameError\u001b[0m                                 Traceback (most recent call last)",
      "Cell \u001b[1;32mIn[2], line 1\u001b[0m\n\u001b[1;32m----> 1\u001b[0m H_0_to_1 \u001b[38;5;241m=\u001b[39m \u001b[43mcalculate_dh_matrix\u001b[49m(theta1, \u001b[38;5;241m90\u001b[39m, \u001b[38;5;241m0\u001b[39m, L1)\n\u001b[0;32m      2\u001b[0m H_1_to_2 \u001b[38;5;241m=\u001b[39m calculate_dh_matrix(theta2, \u001b[38;5;241m0\u001b[39m, L2, \u001b[38;5;241m0\u001b[39m)\n\u001b[0;32m      3\u001b[0m H_2_to_3 \u001b[38;5;241m=\u001b[39m calculate_dh_matrix(theta3, \u001b[38;5;241m0\u001b[39m, L3, \u001b[38;5;241m0\u001b[39m)\n",
      "\u001b[1;31mNameError\u001b[0m: name 'calculate_dh_matrix' is not defined"
     ]
    }
   ],
   "source": [
    "\n",
    "\n",
    "H_0_to_1 = calculate_dh_matrix(theta1, 90, 0, L1)\n",
    "H_1_to_2 = calculate_dh_matrix(theta2, 0, L2, 0)\n",
    "H_2_to_3 = calculate_dh_matrix(theta3, 0, L3, 0)\n",
    "H_3_to_4 = calculate_dh_matrix(theta4, 0, L4, 0)\n",
    "H_4_to_5 = calculate_dh_matrix(theta5, 0, 0, L5)\n",
    "\n",
    "H = H_0_to_1 * H_1_to_2 * H_2_to_3 * H_3_to_4 * H_4_to_5\n"
   ]
  }
 ],
 "metadata": {
  "kernelspec": {
   "display_name": "Python 3",
   "language": "python",
   "name": "python3"
  },
  "language_info": {
   "codemirror_mode": {
    "name": "ipython",
    "version": 3
   },
   "file_extension": ".py",
   "mimetype": "text/x-python",
   "name": "python",
   "nbconvert_exporter": "python",
   "pygments_lexer": "ipython3",
   "version": "3.10.11"
  }
 },
 "nbformat": 4,
 "nbformat_minor": 2
}
