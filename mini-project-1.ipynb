{
 "cells": [
  {
   "cell_type": "code",
   "execution_count": 1,
   "metadata": {},
   "outputs": [],
   "source": [
    "import numpy as np\n",
    "\n",
    "def calculate_dh_matrix(theta, alpha, a, d):\n",
    "    \"\"\"\n",
    "    Calculate the homogeneous transformation matrix using DH parameters.\n",
    "    \n",
    "    Args:\n",
    "        theta: Joint angle in radians (rotation about z-axis)\n",
    "        alpha: Link twist in radians (rotation about x-axis)\n",
    "        a: Link length (translation along x-axis)\n",
    "        d: Link offset (translation along z-axis)\n",
    "    \n",
    "    Returns:\n",
    "        4x4 homogeneous transformation matrix\n",
    "    \"\"\"\n",
    "    # Create the rotation and translation matrices\n",
    "    cos_theta = np.cos(theta)\n",
    "    sin_theta = np.sin(theta)\n",
    "    cos_alpha = np.cos(alpha)\n",
    "    sin_alpha = np.sin(alpha)\n",
    "    \n",
    "    # Build the homogeneous transformation matrix\n",
    "    H = np.array([\n",
    "        [cos_theta, -sin_theta*cos_alpha,  sin_theta*sin_alpha, a*cos_theta],\n",
    "        [sin_theta,  cos_theta*cos_alpha, -cos_theta*sin_alpha, a*sin_theta],\n",
    "        [0,         sin_alpha,            cos_alpha,           d],\n",
    "        [0,         0,                    0,                   1]\n",
    "    ])\n",
    "    \n",
    "    return H"
   ]
  },
  {
   "cell_type": "code",
   "execution_count": 2,
   "metadata": {},
   "outputs": [
    {
     "name": "stdout",
     "output_type": "stream",
     "text": [
      "Transformation matrix:\n",
      "[[ 7.07106781e-01 -4.32978028e-17  7.07106781e-01  3.53553391e-01]\n",
      " [ 7.07106781e-01  4.32978028e-17 -7.07106781e-01  3.53553391e-01]\n",
      " [ 0.00000000e+00  1.00000000e+00  6.12323400e-17  3.00000000e-01]\n",
      " [ 0.00000000e+00  0.00000000e+00  0.00000000e+00  1.00000000e+00]]\n"
     ]
    }
   ],
   "source": [
    "theta = np.pi/4  # 45 degrees\n",
    "alpha = np.pi/2  # 90 degrees\n",
    "a = 0.5         # 0.5 units\n",
    "d = 0.3         # 0.3 units\n",
    "\n",
    "H = calculate_dh_matrix(theta, alpha, a, d)\n",
    "print(\"Transformation matrix:\")\n",
    "print(H)"
   ]
  }
 ],
 "metadata": {
  "kernelspec": {
   "display_name": "base",
   "language": "python",
   "name": "python3"
  },
  "language_info": {
   "codemirror_mode": {
    "name": "ipython",
    "version": 3
   },
   "file_extension": ".py",
   "mimetype": "text/x-python",
   "name": "python",
   "nbconvert_exporter": "python",
   "pygments_lexer": "ipython3",
   "version": "3.12.7"
  }
 },
 "nbformat": 4,
 "nbformat_minor": 2
}
